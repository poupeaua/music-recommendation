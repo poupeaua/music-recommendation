{
 "cells": [
  {
   "cell_type": "markdown",
   "metadata": {},
   "source": [
    "# Music Recommendation - Clustering Oriented"
   ]
  },
  {
   "cell_type": "code",
   "execution_count": 7,
   "metadata": {},
   "outputs": [],
   "source": [
    "import os\n",
    "import glob\n",
    "import pandas as pd\n",
    "import numpy as np\n",
    "import matplotlib.pyplot as plt\n",
    "import h5py\n",
    "import sqlite3\n",
    "import sklearn\n",
    "\n",
    "# import tools functions\n",
    "import h5df_getters"
   ]
  },
  {
   "cell_type": "markdown",
   "metadata": {},
   "source": [
    "Set your environnement configuration here"
   ]
  },
  {
   "cell_type": "code",
   "execution_count": 4,
   "metadata": {},
   "outputs": [],
   "source": [
    "project_abspath = \"/home/osboxes/Documents/python/machlrn/music-recommendation\""
   ]
  },
  {
   "cell_type": "markdown",
   "metadata": {},
   "source": [
    "## Data"
   ]
  },
  {
   "cell_type": "markdown",
   "metadata": {},
   "source": [
    "Here is some information about the data.\n",
    "\n",
    "-> Features for 10000 songs (using the subset of MillionSongDataset)\n",
    "Download here : http://static.echonest.com/millionsongsubset_full.tar.gz\n",
    "In order to succesfully access to the data in this huge dataset it is recommended to look at http://millionsongdataset.com/pages/tutorial/. One can try to open file using the h5py library. Then you can take a look at this tutorials to use it :http://docs.h5py.org/en/stable/quick.html#quick.\n",
    "\n",
    "-> Listener tastes dataset. A triplet-shaped dataset (user_id, song_id, play_count)\n",
    "Download here : http://millionsongdataset.com/sites/default/files/challenge/train_triplets.txt.zip\n",
    "\n",
    "-> Access to the songs styles (MSD Allmusic Genre Dataset (Top MAGD)). We used the smallest one with 13 different styles.\n",
    "The access online is direct without download : http://www.ifs.tuwien.ac.at/mir/msd/partitions/msd-topMAGD-genreAssignment.cls"
   ]
  },
  {
   "cell_type": "code",
   "execution_count": 9,
   "metadata": {},
   "outputs": [],
   "source": [
    "link_songs_styles = \"http://www.ifs.tuwien.ac.at/mir/msd/partitions/msd-topMAGD-genreAssignment.cls\"\n",
    "SONGS_STYLES = pd.read_csv(link_songs_styles, sep=\"\\t\")"
   ]
  },
  {
   "cell_type": "code",
   "execution_count": 14,
   "metadata": {},
   "outputs": [],
   "source": [
    "path_to_user_tastes_dataset = os.path.join(project_abspath, \"data/train_triplets.txt\")\n",
    "SONGS_TASTES = pd.read_csv(path_to_user_tastes_dataset, sep=\"\\t\")"
   ]
  },
  {
   "cell_type": "code",
   "execution_count": 69,
   "metadata": {},
   "outputs": [],
   "source": [
    "path_to_info_files = os.path.join(project_abspath, \"data/MillionSongSubset/AdditionalFiles\")\n",
    "\n",
    "# connect to database\n",
    "database_track_metadata = \"subset_track_metadata.db\"\n",
    "db_track_metadata = sqlite3.connect(os.path.join(path_to_info_files, database_track_metadata))\n",
    "# db_track_metadata.execute(\"SELECT * FROM sqlite_master\").fetchall()"
   ]
  },
  {
   "cell_type": "code",
   "execution_count": 25,
   "metadata": {},
   "outputs": [
    {
     "data": {
      "text/plain": [
       "[b\"Ma' Be Easy [Explicit Version]\",\n",
       " b'I WANNA HEAR IT FROM YOU',\n",
       " b'Oblivious Darkness',\n",
       " b'Party For Pink',\n",
       " b'Only You (Chimi-Changa Club Mix)']"
      ]
     },
     "execution_count": 25,
     "metadata": {},
     "output_type": "execute_result"
    }
   ],
   "source": [
    "path_to_songs_features_data = os.path.join(project_abspath, \"data/MillionSongSubset/data\")\n",
    "\n",
    "list_features_name = ['bars_confidence', 'bars_start', 'beats_confidence', 'beats_start', 'sections_confidence', 'sections_start', 'segments_confidence', 'segments_loudness_max', 'segments_loudness_max_time', 'segments_loudness_start', 'segments_pitches', 'segments_start', 'segments_timbre', 'songs', 'tatums_confidence', 'tatums_start']\n",
    "\n",
    "def get_feature(basedir, fun=h5df_getters.get_title, ext='.h5', nb_elements=10000):\n",
    "    stock = []\n",
    "    i = 0\n",
    "    for root, dirs, files in os.walk(basedir):\n",
    "        files = glob.glob(os.path.join(root,'*'+ext))\n",
    "        for f in files:\n",
    "            h5 = h5df_getters.open_h5_file_read(f)\n",
    "            stock.append(fun(h5))\n",
    "            i += 1\n",
    "            h5.close()\n",
    "            if i > nb_elements-1:\n",
    "                return stock\n",
    "    return stock\n",
    "\n",
    "get_all_titles(basedir=path_to_songs_features_data, nb_elements=5)"
   ]
  }
 ],
 "metadata": {
  "kernelspec": {
   "display_name": "Python 3",
   "language": "python",
   "name": "python3"
  }
 },
 "nbformat": 4,
 "nbformat_minor": 2
}
